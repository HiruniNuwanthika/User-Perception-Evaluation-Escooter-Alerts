{
 "cells": [
  {
   "cell_type": "code",
   "execution_count": 1,
   "id": "115fc077",
   "metadata": {},
   "outputs": [],
   "source": [
    "import pandas as pd"
   ]
  },
  {
   "cell_type": "code",
   "execution_count": 10,
   "id": "7155bdce",
   "metadata": {},
   "outputs": [],
   "source": [
    "def ms_to_min_sec(milliseconds):\n",
    "    # Convert milliseconds to total seconds\n",
    "    total_seconds = milliseconds // 1000\n",
    "    # Calculate minutes and seconds from total seconds\n",
    "    minutes = total_seconds // 60\n",
    "    seconds = total_seconds % 60\n",
    "    # Format as min:sec\n",
    "    return f\"{minutes}:{seconds:02d}\"\n",
    "\n"
   ]
  },
  {
   "cell_type": "code",
   "execution_count": 12,
   "id": "d9c5699f",
   "metadata": {},
   "outputs": [],
   "source": [
    "def filter_fixation_time_to_min(infile, fixation_outfile,fixation_outfile_new):\n",
    "    df= pd.read_excel(infile) \n",
    "    df_fixation = df[df['Eye movement type']=='Fixation']\n",
    "    df_fixation.to_csv(fixation_outfile, index=False)\n",
    "    df_fixation['recording_time']=df_fixation['Recording timestamp'].apply(ms_to_min_sec)\n",
    "    df_fixation.to_csv(fixation_outfile_new, index=False)"
   ]
  },
  {
   "cell_type": "code",
   "execution_count": 29,
   "id": "4411f6e7",
   "metadata": {},
   "outputs": [
    {
     "name": "stderr",
     "output_type": "stream",
     "text": [
      "C:\\ProgramData\\Anaconda3\\lib\\site-packages\\ipykernel_launcher.py:5: SettingWithCopyWarning: \n",
      "A value is trying to be set on a copy of a slice from a DataFrame.\n",
      "Try using .loc[row_indexer,col_indexer] = value instead\n",
      "\n",
      "See the caveats in the documentation: https://pandas.pydata.org/pandas-docs/stable/user_guide/indexing.html#returning-a-view-versus-a-copy\n",
      "  \"\"\"\n"
     ]
    }
   ],
   "source": [
    "infile = r'participant#.xlsx'\n",
    "fixation_outfile = r'Fixations\\participant#.csv'\n",
    "fixation_outfile_new = r'Fixations\\WithRecordingTime\\participant#.csv'\n",
    "filter_fixation_time_to_min(infile, fixation_outfile,fixation_outfile_new)"
   ]
  },
  {
   "cell_type": "code",
   "execution_count": null,
   "id": "f3b90369",
   "metadata": {},
   "outputs": [],
   "source": []
  }
 ],
 "metadata": {
  "kernelspec": {
   "display_name": "Python 3 (ipykernel)",
   "language": "python",
   "name": "python3"
  },
  "language_info": {
   "codemirror_mode": {
    "name": "ipython",
    "version": 3
   },
   "file_extension": ".py",
   "mimetype": "text/x-python",
   "name": "python",
   "nbconvert_exporter": "python",
   "pygments_lexer": "ipython3",
   "version": "3.7.13"
  }
 },
 "nbformat": 4,
 "nbformat_minor": 5
}
