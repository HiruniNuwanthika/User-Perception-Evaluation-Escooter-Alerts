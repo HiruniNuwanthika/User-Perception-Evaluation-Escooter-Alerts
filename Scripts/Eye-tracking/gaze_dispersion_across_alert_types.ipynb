{
 "cells": [
  {
   "cell_type": "code",
   "execution_count": 1,
   "id": "48ac5029",
   "metadata": {},
   "outputs": [],
   "source": [
    "import pandas as pd\n",
    "import numpy as np\n",
    "import os\n",
    "import seaborn as sns\n",
    "import matplotlib.pyplot as plt\n",
    "from scipy import stats"
   ]
  },
  {
   "cell_type": "code",
   "execution_count": 8,
   "id": "63ded465",
   "metadata": {},
   "outputs": [],
   "source": [
    "df_ped=pd.read_csv('Fixations\\WithRecordingTime\\gaze_dispersion_peds.csv')\n",
    "df_ped =df_ped.dropna()\n",
    "df_cyc=pd.read_csv('Fixations\\WithRecordingTime\\gaze_dispersion_cyc.csv')\n",
    "df_cyc =df_cyc.dropna()"
   ]
  },
  {
   "cell_type": "code",
   "execution_count": 9,
   "id": "c0600f44",
   "metadata": {},
   "outputs": [
    {
     "data": {
      "text/html": [
       "<div>\n",
       "<style scoped>\n",
       "    .dataframe tbody tr th:only-of-type {\n",
       "        vertical-align: middle;\n",
       "    }\n",
       "\n",
       "    .dataframe tbody tr th {\n",
       "        vertical-align: top;\n",
       "    }\n",
       "\n",
       "    .dataframe thead th {\n",
       "        text-align: right;\n",
       "    }\n",
       "</style>\n",
       "<table border=\"1\" class=\"dataframe\">\n",
       "  <thead>\n",
       "    <tr style=\"text-align: right;\">\n",
       "      <th></th>\n",
       "      <th>participant no</th>\n",
       "      <th>way</th>\n",
       "      <th>alert</th>\n",
       "      <th>Euclidean Distance</th>\n",
       "    </tr>\n",
       "  </thead>\n",
       "  <tbody>\n",
       "    <tr>\n",
       "      <th>0</th>\n",
       "      <td>c10</td>\n",
       "      <td>approach</td>\n",
       "      <td>Baseline</td>\n",
       "      <td>305</td>\n",
       "    </tr>\n",
       "    <tr>\n",
       "      <th>1</th>\n",
       "      <td>c10</td>\n",
       "      <td>approach</td>\n",
       "      <td>Bell</td>\n",
       "      <td>292</td>\n",
       "    </tr>\n",
       "    <tr>\n",
       "      <th>2</th>\n",
       "      <td>c10</td>\n",
       "      <td>approach</td>\n",
       "      <td>Continuous</td>\n",
       "      <td>287</td>\n",
       "    </tr>\n",
       "    <tr>\n",
       "      <th>3</th>\n",
       "      <td>c10</td>\n",
       "      <td>approach</td>\n",
       "      <td>Flash Light</td>\n",
       "      <td>288</td>\n",
       "    </tr>\n",
       "    <tr>\n",
       "      <th>4</th>\n",
       "      <td>c10</td>\n",
       "      <td>approach</td>\n",
       "      <td>Voice</td>\n",
       "      <td>308</td>\n",
       "    </tr>\n",
       "    <tr>\n",
       "      <th>...</th>\n",
       "      <td>...</td>\n",
       "      <td>...</td>\n",
       "      <td>...</td>\n",
       "      <td>...</td>\n",
       "    </tr>\n",
       "    <tr>\n",
       "      <th>75</th>\n",
       "      <td>c8</td>\n",
       "      <td>overtake</td>\n",
       "      <td>Baseline</td>\n",
       "      <td>295</td>\n",
       "    </tr>\n",
       "    <tr>\n",
       "      <th>76</th>\n",
       "      <td>c8</td>\n",
       "      <td>overtake</td>\n",
       "      <td>Bell</td>\n",
       "      <td>241</td>\n",
       "    </tr>\n",
       "    <tr>\n",
       "      <th>77</th>\n",
       "      <td>c8</td>\n",
       "      <td>overtake</td>\n",
       "      <td>Continuous</td>\n",
       "      <td>278</td>\n",
       "    </tr>\n",
       "    <tr>\n",
       "      <th>78</th>\n",
       "      <td>c8</td>\n",
       "      <td>overtake</td>\n",
       "      <td>Flash Light</td>\n",
       "      <td>314</td>\n",
       "    </tr>\n",
       "    <tr>\n",
       "      <th>79</th>\n",
       "      <td>c8</td>\n",
       "      <td>overtake</td>\n",
       "      <td>Voice</td>\n",
       "      <td>286</td>\n",
       "    </tr>\n",
       "  </tbody>\n",
       "</table>\n",
       "<p>80 rows × 4 columns</p>\n",
       "</div>"
      ],
      "text/plain": [
       "   participant no       way        alert  Euclidean Distance\n",
       "0             c10  approach     Baseline                 305\n",
       "1             c10  approach         Bell                 292\n",
       "2             c10  approach  Continuous                  287\n",
       "3             c10  approach  Flash Light                 288\n",
       "4             c10  approach        Voice                 308\n",
       "..            ...       ...          ...                 ...\n",
       "75             c8  overtake     Baseline                 295\n",
       "76             c8  overtake         Bell                 241\n",
       "77             c8  overtake  Continuous                  278\n",
       "78             c8  overtake  Flash Light                 314\n",
       "79             c8  overtake        Voice                 286\n",
       "\n",
       "[80 rows x 4 columns]"
      ]
     },
     "execution_count": 9,
     "metadata": {},
     "output_type": "execute_result"
    }
   ],
   "source": [
    "grouped_gaze_dispersion_ped = df_ped.groupby(['participant no', 'way', 'alert']).size().reset_index(name='Euclidean Distance')\n",
    "grouped_gaze_dispersion_ped\n",
    "\n",
    "grouped_gaze_dispersion_cyc = df_cyc.groupby(['participant no', 'way', 'alert']).size().reset_index(name='Euclidean Distance')\n",
    "grouped_gaze_dispersion_cyc"
   ]
  },
  {
   "cell_type": "code",
   "execution_count": 10,
   "id": "99f56f62",
   "metadata": {},
   "outputs": [
    {
     "data": {
      "text/plain": [
       "array(['Baseline', 'Bell', 'Continuous ', 'Flash Light', 'Voice'],\n",
       "      dtype=object)"
      ]
     },
     "execution_count": 10,
     "metadata": {},
     "output_type": "execute_result"
    }
   ],
   "source": [
    "grouped_gaze_dispersion_ped['alert'].unique()"
   ]
  },
  {
   "cell_type": "code",
   "execution_count": 11,
   "id": "ca880bd3",
   "metadata": {},
   "outputs": [
    {
     "data": {
      "text/plain": [
       "array(['Baseline', 'Bell', 'Continuous ', 'Flash Light', 'Voice'],\n",
       "      dtype=object)"
      ]
     },
     "execution_count": 11,
     "metadata": {},
     "output_type": "execute_result"
    }
   ],
   "source": [
    "grouped_gaze_dispersion_cyc['alert'].unique()"
   ]
  },
  {
   "cell_type": "code",
   "execution_count": 14,
   "id": "f75b6617",
   "metadata": {},
   "outputs": [
    {
     "data": {
      "image/png": "[encoded data removed]",
      "text/plain": [
       "<Figure size 864x432 with 1 Axes>"
      ]
     },
     "metadata": {
      "needs_background": "light"
     },
     "output_type": "display_data"
    }
   ],
   "source": [
    "plt.rcParams.update({\n",
    "    'font.size': 12,      # Set font size for all text\n",
    "    'font.family': 'sans-serif',  # Change the font family (e.g., 'serif', 'sans-serif', etc.)\n",
    "    'axes.titlesize': 16,    # Font size for title\n",
    "    'axes.labelsize': 14,    # Font size for x and y labels\n",
    "    'xtick.labelsize': 12,   # Font size for x ticks\n",
    "    'ytick.labelsize': 14,   # Font size for y ticks\n",
    "    'legend.fontsize': 12    # Font size for the legend\n",
    "})\n",
    "\n",
    "\n",
    "# Add a new column to differentiate between pedestrian and cyclist fixations\n",
    "grouped_gaze_dispersion_ped['group'] = 'Pedestrians'\n",
    "grouped_gaze_dispersion_cyc['group'] = 'Cyclists'\n",
    "\n",
    "# Combine both dataframes\n",
    "df_combined = pd.concat([grouped_gaze_dispersion_ped, grouped_gaze_dispersion_cyc])\n",
    "\n",
    "# Create the boxplot with hue for differentiating pedestrians and cyclists\n",
    "plt.figure(figsize=(12, 6))\n",
    "box_plot = sns.boxplot(x='alert', y='Euclidean Distance', hue='group', data=df_combined, palette=\"Set2\", width=0.6)\n",
    "\n",
    "# Calculate means for pedestrians and cyclists separately\n",
    "mean_values = df_combined.groupby(['alert', 'group'])['Euclidean Distance'].mean().reset_index()\n",
    "\n",
    "# Add mean values for both groups as text annotations on the plot\n",
    "for i, row in mean_values.iterrows():\n",
    "    x = list(df_combined['alert'].unique()).index(row['alert']) + (-0.2 if row['group'] == 'Pedestrians' else 0.2)\n",
    "    plt.text(x, row['Euclidean Distance'], f'{row[\"Euclidean Distance\"]:.2f}', color='blue' if row['group'] == 'Pedestrians' else 'green',\n",
    "             ha=\"center\", va=\"bottom\", fontweight='bold')\n",
    "\n",
    "\n",
    "# Set plot title and labels\n",
    "#plt.title('Number of Fixations Across Alert Types - Pedestrians and Cyclists')\n",
    "plt.xlabel('Alert Type')\n",
    "plt.ylabel('Gaze Dispersion')\n",
    "\n",
    "# Adjust legend placement\n",
    "plt.legend( bbox_to_anchor=(1, 1), loc='upper left')\n",
    "\n",
    "# Display the plot\n",
    "plt.tight_layout()\n",
    "plt.show()\n"
   ]
  },
  {
   "cell_type": "code",
   "execution_count": null,
   "id": "5641d01d",
   "metadata": {},
   "outputs": [],
   "source": []
  },
  {
   "cell_type": "code",
   "execution_count": null,
   "id": "defd4cdd",
   "metadata": {},
   "outputs": [],
   "source": []
  }
 ],
 "metadata": {
  "kernelspec": {
   "display_name": "Python 3 (ipykernel)",
   "language": "python",
   "name": "python3"
  },
  "language_info": {
   "codemirror_mode": {
    "name": "ipython",
    "version": 3
   },
   "file_extension": ".py",
   "mimetype": "text/x-python",
   "name": "python",
   "nbconvert_exporter": "python",
   "pygments_lexer": "ipython3",
   "version": "3.7.13"
  }
 },
 "nbformat": 4,
 "nbformat_minor": 5
}
