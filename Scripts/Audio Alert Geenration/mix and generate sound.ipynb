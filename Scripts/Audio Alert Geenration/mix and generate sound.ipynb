{
 "cells": [
  {
   "cell_type": "code",
   "execution_count": 1,
   "id": "657e5883",
   "metadata": {},
   "outputs": [
    {
     "name": "stderr",
     "output_type": "stream",
     "text": [
      "C:\\ProgramData\\Anaconda3\\lib\\site-packages\\pydub\\utils.py:170: RuntimeWarning: Couldn't find ffmpeg or avconv - defaulting to ffmpeg, but may not work\n",
      "  warn(\"Couldn't find ffmpeg or avconv - defaulting to ffmpeg, but may not work\", RuntimeWarning)\n"
     ]
    }
   ],
   "source": [
    "from pydub import AudioSegment\n",
    "import librosa\n",
    "import numpy as np\n",
    "from scipy.io import wavfile\n",
    "import soundfile as sf"
   ]
  },
  {
   "cell_type": "code",
   "execution_count": 2,
   "id": "43711325",
   "metadata": {},
   "outputs": [],
   "source": [
    "def process_audio_segments(file_a_path, file_b_path, output_path, \n",
    "                            split_timestamps_a, split_timestamps_b, \n",
    "                            gain_a=10, gain_b=5):\n",
    "    \"\"\"\n",
    "    Process two audio files by splitting and combining their segments.\n",
    "\n",
    "    Args:\n",
    "        file_a_path (str): Path to the first WAV file.\n",
    "        file_b_path (str): Path to the second WAV file.\n",
    "        output_path (str): Path to save the combined WAV file.\n",
    "        split_timestamps_a (tuple): Start and end timestamps (in seconds) for splitting File A.\n",
    "        split_timestamps_b (tuple): Start and end timestamps (in seconds) for splitting File B.\n",
    "        gain_a (int, optional): Gain to apply to the segment from File A. Default is 10 dB.\n",
    "        gain_b (int, optional): Gain to apply to the segment from File B. Default is 5 dB.\n",
    "\n",
    "    Returns:\n",
    "        None\n",
    "    \"\"\"\n",
    "    # Load the audio files\n",
    "    audio_a = AudioSegment.from_wav(file_a_path)\n",
    "    audio_b = AudioSegment.from_wav(file_b_path)\n",
    "\n",
    "    # Convert timestamps to milliseconds\n",
    "    split_point_a_start = split_timestamps_a[0] * 1000\n",
    "    split_point_a_end = split_timestamps_a[1] * 1000\n",
    "    split_point_b_start = split_timestamps_b[0] * 1000\n",
    "    split_point_b_end = split_timestamps_b[1] * 1000\n",
    "\n",
    "    # Split the audio segments\n",
    "    segment_a = audio_a[split_point_a_start:split_point_a_end]\n",
    "    segment_b = audio_b[split_point_b_start:split_point_b_end]\n",
    "\n",
    "    # Adjust the volume of the segments\n",
    "    louder_segment_a = segment_a + gain_a\n",
    "    louder_segment_b = segment_b + gain_b\n",
    "\n",
    "    # Combine the segments\n",
    "    combined_audio = louder_segment_b + louder_segment_a\n",
    "\n",
    "    # Export the combined audio file\n",
    "    combined_audio.export(output_path, format=\"wav\")\n",
    "\n"
   ]
  }
 ],
 "metadata": {
  "kernelspec": {
   "display_name": "Python 3 (ipykernel)",
   "language": "python",
   "name": "python3"
  },
  "language_info": {
   "codemirror_mode": {
    "name": "ipython",
    "version": 3
   },
   "file_extension": ".py",
   "mimetype": "text/x-python",
   "name": "python",
   "nbconvert_exporter": "python",
   "pygments_lexer": "ipython3",
   "version": "3.7.13"
  }
 },
 "nbformat": 4,
 "nbformat_minor": 5
}
