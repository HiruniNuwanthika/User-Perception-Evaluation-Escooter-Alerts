{
 "cells": [
  {
   "cell_type": "code",
   "execution_count": 1,
   "id": "3d762346",
   "metadata": {},
   "outputs": [],
   "source": [
    "import pandas as pd\n",
    "import os\n",
    "import seaborn as sns\n",
    "import matplotlib.pyplot as plt\n",
    "from scipy import stats"
   ]
  },
  {
   "cell_type": "code",
   "execution_count": 63,
   "id": "7d8dc7e3",
   "metadata": {},
   "outputs": [],
   "source": [
    "directory = r'Fixations\\WithRecordingTime'\n",
    "selected_columns = ['Recording timestamp', 'Gaze point X', 'Gaze point Y','participant no','way','alert']\n",
    "dataframes = []"
   ]
  },
  {
   "cell_type": "code",
   "execution_count": 64,
   "id": "3a34a963",
   "metadata": {
    "scrolled": true
   },
   "outputs": [
    {
     "name": "stdout",
     "output_type": "stream",
     "text": [
      "c10_output.csv\n",
      "c2_output.csv\n",
      "c3_output.csv\n",
      "c4_output.csv\n",
      "c5_output.csv\n",
      "c6_output.csv\n",
      "c7_output.csv\n",
      "c8_output.csv\n",
      "   Recording timestamp  Gaze point X  Gaze point Y participant no       way  \\\n",
      "0               119002           NaN           NaN            c10  overtake   \n",
      "1               119002           NaN           NaN            c10  overtake   \n",
      "2               119011           NaN           NaN            c10  overtake   \n",
      "3               119011           NaN           NaN            c10  overtake   \n",
      "4               119015         941.0         642.0            c10  overtake   \n",
      "\n",
      "   alert  \n",
      "0  voice  \n",
      "1  voice  \n",
      "2  voice  \n",
      "3  voice  \n",
      "4  voice  \n"
     ]
    }
   ],
   "source": [
    "for filename in os.listdir(directory):\n",
    "    if filename.endswith('_output.csv') and filename.startswith('c'):  \n",
    "        file_path = os.path.join(directory, filename)\n",
    "        # Read the CSV file\n",
    "        print(filename)\n",
    "        df = pd.read_csv(file_path, usecols=selected_columns)\n",
    "        # Append the DataFrame to the list\n",
    "        dataframes.append(df)\n",
    "\n",
    "# Concatenate all DataFrames in the list\n",
    "final_df = pd.concat(dataframes, ignore_index=True)\n",
    "\n",
    "# Optionally, save the final DataFrame to a new CSV file\n",
    "final_df.to_csv('Fixations\\WithRecordingTime\\gaze_points_cyc_output.csv', index=False)\n",
    "\n",
    "# Print the head of the final DataFrame to verify\n",
    "print(final_df.head())"
   ]
  },
  {
   "cell_type": "code",
   "execution_count": 2,
   "id": "b517fe0e",
   "metadata": {},
   "outputs": [],
   "source": [
    "df_merged_gaze=pd.read_csv(r'Fixations\\WithRecordingTime\\gaze_points_cyc_output.csv')\n",
    "df_merged_gaze =df_merged_gaze.dropna()"
   ]
  },
  {
   "cell_type": "code",
   "execution_count": 67,
   "id": "76285046",
   "metadata": {},
   "outputs": [
    {
     "name": "stdout",
     "output_type": "stream",
     "text": [
      "   participant no       way      alert  Count\n",
      "0             c10  approach       bell    292\n",
      "1             c10  approach  continue     287\n",
      "2             c10  approach    control    305\n",
      "3             c10  approach      flash    288\n",
      "4             c10  approach      voice    308\n",
      "..            ...       ...        ...    ...\n",
      "75             c8  overtake       bell    241\n",
      "76             c8  overtake  continue     278\n",
      "77             c8  overtake    control    295\n",
      "78             c8  overtake      flash    314\n",
      "79             c8  overtake      voice    286\n",
      "\n",
      "[80 rows x 4 columns]\n"
     ]
    }
   ],
   "source": [
    "grouped_counts = df_merged_gaze.groupby(['participant no', 'way', 'alert']).size().reset_index(name='Count')\n",
    "\n",
    "# Print the resulting DataFrame\n",
    "print(grouped_counts)\n",
    "grouped_counts.to_csv(r'Fixations\\WithRecordingTime\\fixation_count_cyc.csv', index=False)"
   ]
  },
  {
   "cell_type": "code",
   "execution_count": null,
   "id": "c81b3215",
   "metadata": {},
   "outputs": [],
   "source": []
  },
  {
   "cell_type": "code",
   "execution_count": 5,
   "id": "d66d8865",
   "metadata": {},
   "outputs": [],
   "source": [
    "df_ped_fixations=pd.read_csv(r'Fixations\\WithRecordingTime\\fixation_count_peds.csv')\n",
    "df_cyc_fixations=pd.read_csv(r'Fixations\\WithRecordingTime\\fixation_count_cyc.csv')"
   ]
  },
  {
   "cell_type": "code",
   "execution_count": 14,
   "id": "88016440",
   "metadata": {},
   "outputs": [
    {
     "data": {
      "image/png": "[encoded data removed]",
      "text/plain": [
       "<Figure size 720x432 with 1 Axes>"
      ]
     },
     "metadata": {
      "needs_background": "light"
     },
     "output_type": "display_data"
    }
   ],
   "source": [
    "df_ped_fixations['group'] = 'Pedestrians'\n",
    "df_cyc_fixations['group'] = 'Cyclists'\n",
    "\n",
    "# Combine both dataframes\n",
    "df_combined = pd.concat([df_ped_fixations, df_cyc_fixations])\n",
    "\n",
    "plt.rcParams.update({\n",
    "    'font.size': 12,      # Set font size for all text\n",
    "    'font.family': 'sans-serif',  # Change the font family (e.g., 'serif', 'sans-serif', etc.)\n",
    "    'axes.titlesize': 16,    # Font size for title\n",
    "    'axes.labelsize': 14,    # Font size for x and y labels\n",
    "    'xtick.labelsize': 12,   # Font size for x ticks\n",
    "    'ytick.labelsize': 14,   # Font size for y ticks\n",
    "    'legend.fontsize': 12    # Font size for the legend\n",
    "})\n",
    "\n",
    "\n",
    "# Create the boxplot\n",
    "plt.figure(figsize=(10, 6))\n",
    "box_plot = sns.boxplot(x='way', y='Count', hue='group', data=df_combined, palette=\"Set2\")\n",
    "\n",
    "# Calculate means for both pedestrian and cyclist fixations and add text\n",
    "mean_values = df_combined.groupby(['way', 'group'])['Count'].mean().reset_index()\n",
    "\n",
    "# Add mean values as text annotations on the plot\n",
    "for i, row in mean_values.iterrows():\n",
    "    x_pos = list(df_combined['way'].unique()).index(row['way']) + (0.1 if row['group'] == 'Cyclists' else -0.1)\n",
    "    plt.text(x_pos, row['Count'], f'{row[\"Count\"]:.2f}', color='blue', ha=\"center\", va=\"bottom\", fontweight='bold')\n",
    "\n",
    "# Set plot title and labels\n",
    "#plt.title('Number of Fixations: Pedestrians and Cyclists')\n",
    "plt.xlabel('Interaction Way')\n",
    "plt.ylabel('Fixation Count')\n",
    "plt.legend(bbox_to_anchor=(1.05, 1), loc='upper left')\n",
    "plt.show()"
   ]
  },
  {
   "cell_type": "code",
   "execution_count": null,
   "id": "d8111322",
   "metadata": {},
   "outputs": [],
   "source": []
  }
 ],
 "metadata": {
  "kernelspec": {
   "display_name": "Python 3 (ipykernel)",
   "language": "python",
   "name": "python3"
  },
  "language_info": {
   "codemirror_mode": {
    "name": "ipython",
    "version": 3
   },
   "file_extension": ".py",
   "mimetype": "text/x-python",
   "name": "python",
   "nbconvert_exporter": "python",
   "pygments_lexer": "ipython3",
   "version": "3.7.13"
  }
 },
 "nbformat": 4,
 "nbformat_minor": 5
}
