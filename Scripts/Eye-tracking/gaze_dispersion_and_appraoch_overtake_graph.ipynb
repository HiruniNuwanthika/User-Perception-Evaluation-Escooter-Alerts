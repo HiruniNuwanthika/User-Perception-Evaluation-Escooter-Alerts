{
 "cells": [
  {
   "cell_type": "code",
   "execution_count": 1,
   "id": "a095985d",
   "metadata": {},
   "outputs": [],
   "source": [
    "import pandas as pd\n",
    "import numpy as np\n",
    "import os\n",
    "import seaborn as sns\n",
    "import matplotlib.pyplot as plt\n",
    "from scipy import stats"
   ]
  },
  {
   "cell_type": "code",
   "execution_count": null,
   "id": "76991458",
   "metadata": {},
   "outputs": [],
   "source": [
    "df_ped=pd.read_csv('Fixations\\WithRecordingTime\\gaze_points_cyc_output.csv')\n",
    "df_ped =df_cyc.dropna()"
   ]
  },
  {
   "cell_type": "code",
   "execution_count": null,
   "id": "736283ad",
   "metadata": {},
   "outputs": [],
   "source": [
    "def min_max_normalize(series):\n",
    "    return (series - series.min()) / (series.max() - series.min())"
   ]
  },
  {
   "cell_type": "code",
   "execution_count": null,
   "id": "61593fd1",
   "metadata": {},
   "outputs": [],
   "source": [
    "df_ped['Normalized X'] = min_max_normalize(df_ped['Gaze point X'])\n",
    "df_ped['Normalized Y'] = min_max_normalize(df_ped['Gaze point Y'])\n",
    "df_ped['Euclidean Distance'] = np.sqrt(df_ped['Normalized X']**2 + df_ped['Normalized Y']**2)"
   ]
  },
  {
   "cell_type": "code",
   "execution_count": null,
   "id": "462dbed0",
   "metadata": {},
   "outputs": [],
   "source": [
    "df_ped.to_csv('Fixations\\WithRecordingTime\\gaze_dispersion_cyc.csv', index=False)  "
   ]
  },
  {
   "cell_type": "code",
   "execution_count": null,
   "id": "6764e4d2",
   "metadata": {},
   "outputs": [],
   "source": []
  },
  {
   "cell_type": "code",
   "execution_count": null,
   "id": "278a2a27",
   "metadata": {},
   "outputs": [],
   "source": []
  },
  {
   "cell_type": "code",
   "execution_count": 13,
   "id": "55dc27be",
   "metadata": {},
   "outputs": [],
   "source": [
    "df_ped=pd.read_csv('Fixations\\WithRecordingTime\\gaze_dispersion_peds.csv')\n",
    "df_ped =df_ped.dropna()\n",
    "df_cyc=pd.read_csv('Fixations\\WithRecordingTime\\gaze_dispersion_cyc.csv')\n",
    "df_cyc =df_cyc.dropna()"
   ]
  },
  {
   "cell_type": "code",
   "execution_count": 14,
   "id": "70fc8360",
   "metadata": {},
   "outputs": [
    {
     "data": {
      "text/html": [
       "<div>\n",
       "<style scoped>\n",
       "    .dataframe tbody tr th:only-of-type {\n",
       "        vertical-align: middle;\n",
       "    }\n",
       "\n",
       "    .dataframe tbody tr th {\n",
       "        vertical-align: top;\n",
       "    }\n",
       "\n",
       "    .dataframe thead th {\n",
       "        text-align: right;\n",
       "    }\n",
       "</style>\n",
       "<table border=\"1\" class=\"dataframe\">\n",
       "  <thead>\n",
       "    <tr style=\"text-align: right;\">\n",
       "      <th></th>\n",
       "      <th>participant no</th>\n",
       "      <th>way</th>\n",
       "      <th>alert</th>\n",
       "      <th>Euclidean Distance</th>\n",
       "    </tr>\n",
       "  </thead>\n",
       "  <tbody>\n",
       "    <tr>\n",
       "      <th>0</th>\n",
       "      <td>c10</td>\n",
       "      <td>approach</td>\n",
       "      <td>Baseline</td>\n",
       "      <td>305</td>\n",
       "    </tr>\n",
       "    <tr>\n",
       "      <th>1</th>\n",
       "      <td>c10</td>\n",
       "      <td>approach</td>\n",
       "      <td>Bell</td>\n",
       "      <td>292</td>\n",
       "    </tr>\n",
       "    <tr>\n",
       "      <th>2</th>\n",
       "      <td>c10</td>\n",
       "      <td>approach</td>\n",
       "      <td>Continuous</td>\n",
       "      <td>287</td>\n",
       "    </tr>\n",
       "    <tr>\n",
       "      <th>3</th>\n",
       "      <td>c10</td>\n",
       "      <td>approach</td>\n",
       "      <td>Flash Light</td>\n",
       "      <td>288</td>\n",
       "    </tr>\n",
       "    <tr>\n",
       "      <th>4</th>\n",
       "      <td>c10</td>\n",
       "      <td>approach</td>\n",
       "      <td>Voice</td>\n",
       "      <td>308</td>\n",
       "    </tr>\n",
       "    <tr>\n",
       "      <th>...</th>\n",
       "      <td>...</td>\n",
       "      <td>...</td>\n",
       "      <td>...</td>\n",
       "      <td>...</td>\n",
       "    </tr>\n",
       "    <tr>\n",
       "      <th>75</th>\n",
       "      <td>c8</td>\n",
       "      <td>overtake</td>\n",
       "      <td>Baseline</td>\n",
       "      <td>295</td>\n",
       "    </tr>\n",
       "    <tr>\n",
       "      <th>76</th>\n",
       "      <td>c8</td>\n",
       "      <td>overtake</td>\n",
       "      <td>Bell</td>\n",
       "      <td>241</td>\n",
       "    </tr>\n",
       "    <tr>\n",
       "      <th>77</th>\n",
       "      <td>c8</td>\n",
       "      <td>overtake</td>\n",
       "      <td>Continuous</td>\n",
       "      <td>278</td>\n",
       "    </tr>\n",
       "    <tr>\n",
       "      <th>78</th>\n",
       "      <td>c8</td>\n",
       "      <td>overtake</td>\n",
       "      <td>Flash Light</td>\n",
       "      <td>314</td>\n",
       "    </tr>\n",
       "    <tr>\n",
       "      <th>79</th>\n",
       "      <td>c8</td>\n",
       "      <td>overtake</td>\n",
       "      <td>Voice</td>\n",
       "      <td>286</td>\n",
       "    </tr>\n",
       "  </tbody>\n",
       "</table>\n",
       "<p>80 rows × 4 columns</p>\n",
       "</div>"
      ],
      "text/plain": [
       "   participant no       way        alert  Euclidean Distance\n",
       "0             c10  approach     Baseline                 305\n",
       "1             c10  approach         Bell                 292\n",
       "2             c10  approach  Continuous                  287\n",
       "3             c10  approach  Flash Light                 288\n",
       "4             c10  approach        Voice                 308\n",
       "..            ...       ...          ...                 ...\n",
       "75             c8  overtake     Baseline                 295\n",
       "76             c8  overtake         Bell                 241\n",
       "77             c8  overtake  Continuous                  278\n",
       "78             c8  overtake  Flash Light                 314\n",
       "79             c8  overtake        Voice                 286\n",
       "\n",
       "[80 rows x 4 columns]"
      ]
     },
     "execution_count": 14,
     "metadata": {},
     "output_type": "execute_result"
    }
   ],
   "source": [
    "grouped_gaze_dispersion_ped = df_ped.groupby(['participant no', 'way', 'alert']).size().reset_index(name='Euclidean Distance')\n",
    "grouped_gaze_dispersion_ped\n",
    "\n",
    "grouped_gaze_dispersion_cyc = df_cyc.groupby(['participant no', 'way', 'alert']).size().reset_index(name='Euclidean Distance')\n",
    "grouped_gaze_dispersion_cyc"
   ]
  },
  {
   "cell_type": "code",
   "execution_count": 16,
   "id": "c4f2c55c",
   "metadata": {},
   "outputs": [
    {
     "data": {
      "image/png": "[encoded data removed]",
      "text/plain": [
       "<Figure size 720x432 with 1 Axes>"
      ]
     },
     "metadata": {
      "needs_background": "light"
     },
     "output_type": "display_data"
    }
   ],
   "source": [
    "grouped_gaze_dispersion_ped['group'] = 'Pedestrians'\n",
    "grouped_gaze_dispersion_cyc['group'] = 'Cyclists'\n",
    "\n",
    "# Combine both dataframes\n",
    "df_combined = pd.concat([grouped_gaze_dispersion_ped, grouped_gaze_dispersion_cyc])\n",
    "\n",
    "plt.rcParams.update({\n",
    "    'font.size': 12,      # Set font size for all text\n",
    "    'font.family': 'sans-serif',  # Change the font family (e.g., 'serif', 'sans-serif', etc.)\n",
    "    'axes.titlesize': 16,    # Font size for title\n",
    "    'axes.labelsize': 14,    # Font size for x and y labels\n",
    "    'xtick.labelsize': 12,   # Font size for x ticks\n",
    "    'ytick.labelsize': 14,   # Font size for y ticks\n",
    "    'legend.fontsize': 12    # Font size for the legend\n",
    "})\n",
    "\n",
    "\n",
    "# Create the boxplot\n",
    "plt.figure(figsize=(10, 6))\n",
    "box_plot = sns.boxplot(x='way', y='Euclidean Distance', hue='group', data=df_combined, palette=\"Set2\")\n",
    "\n",
    "# Calculate means for both pedestrian and cyclist fixations and add text\n",
    "mean_values = df_combined.groupby(['way', 'group'])['Euclidean Distance'].mean().reset_index()\n",
    "\n",
    "# Add mean values as text annotations on the plot\n",
    "for i, row in mean_values.iterrows():\n",
    "    x_pos = list(df_combined['way'].unique()).index(row['way']) + (0.1 if row['group'] == 'Cyclists' else -0.1)\n",
    "    plt.text(x_pos, row['Euclidean Distance'], f'{row[\"Euclidean Distance\"]:.2f}', color='blue', ha=\"center\", va=\"bottom\", fontweight='bold')\n",
    "\n",
    "# Set plot title and labels\n",
    "#plt.title('Number of Fixations: Pedestrians and Cyclists')\n",
    "plt.xlabel('Interaction Way')\n",
    "plt.ylabel('Gaze Dispersion')\n",
    "plt.legend(bbox_to_anchor=(1.05, 1), loc='upper left')\n",
    "plt.show()"
   ]
  },
  {
   "cell_type": "code",
   "execution_count": null,
   "id": "c01818d7",
   "metadata": {},
   "outputs": [],
   "source": []
  },
  {
   "cell_type": "code",
   "execution_count": null,
   "id": "0b2f4e4e",
   "metadata": {},
   "outputs": [],
   "source": []
  },
  {
   "cell_type": "code",
   "execution_count": null,
   "id": "6d99d1ef",
   "metadata": {},
   "outputs": [],
   "source": []
  }
 ],
 "metadata": {
  "kernelspec": {
   "display_name": "Python 3 (ipykernel)",
   "language": "python",
   "name": "python3"
  },
  "language_info": {
   "codemirror_mode": {
    "name": "ipython",
    "version": 3
   },
   "file_extension": ".py",
   "mimetype": "text/x-python",
   "name": "python",
   "nbconvert_exporter": "python",
   "pygments_lexer": "ipython3",
   "version": "3.7.13"
  }
 },
 "nbformat": 4,
 "nbformat_minor": 5
}
